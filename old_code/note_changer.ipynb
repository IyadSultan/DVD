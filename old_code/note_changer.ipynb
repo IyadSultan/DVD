{
 "cells": [
  {
   "cell_type": "markdown",
   "metadata": {},
   "source": [
    "- This note takes all motes in original_notes folder \n",
    "- It generates a new note with the same content \n",
    "- It uses the new AI note to generates 20 variations for each note: \n",
    "    - 5 variations that remove relevant information\n",
    "    - 5 variations that add synthetic relevant information\n",
    "    - 5 variations that remove non-relevant information\n",
    "    - 5 variations that add synthetic non-relevant information\n",
    "- All modifications are saved in the modification_details.csv file\n",
    "- It saves all the notes in the modified_notes folder\n"
   ]
  },
  {
   "cell_type": "code",
   "execution_count": 1,
   "metadata": {},
   "outputs": [],
   "source": [
    "!.venv\\Scripts\\activate"
   ]
  },
  {
   "cell_type": "code",
   "execution_count": 1,
   "metadata": {},
   "outputs": [
    {
     "data": {
      "text/plain": [
       "True"
      ]
     },
     "execution_count": 1,
     "metadata": {},
     "output_type": "execute_result"
    }
   ],
   "source": [
    "import os\n",
    "import dotenv\n",
    "dotenv.load_dotenv()\n",
    "# print(os.getenv(\"OPENAI_API_KEY\"))"
   ]
  },
  {
   "cell_type": "code",
   "execution_count": 2,
   "metadata": {},
   "outputs": [],
   "source": [
    "import os\n",
    "from langchain_openai import ChatOpenAI\n",
    "from langchain_core.messages import HumanMessage, SystemMessage\n",
    "\n",
    "# Initialize the language model\n",
    "llm = ChatOpenAI(model=\"gpt-4o\", temperature=0.7)\n",
    "\n",
    "# Define the folder paths\n",
    "original_folder = \"original_notes\"\n",
    "modified_folder = \"modified_notes\"\n",
    "\n",
    "# Ensure the modified notes folder exists\n",
    "os.makedirs(modified_folder, exist_ok=True)\n"
   ]
  },
  {
   "cell_type": "code",
   "execution_count": 3,
   "metadata": {},
   "outputs": [],
   "source": [
    "relevancy_prompt = (  \n",
    "            \"You are a medical note rewriter.   You need to understand the meeaning of relevant information. \"  \n",
    "            \"The following are the key pieces of information that should be included in a patient discharge summary, \"\n",
    "            \"the are defined as relevant information: \"\n",
    "            \"1. Hospital Admission and Discharge Details, \"\n",
    "            \"2. Reason for Hospitalization, \"\n",
    "            \"3. Hospital Course Summary, \"\n",
    "            \"4. Discharge Diagnosis, \"\n",
    "            \"5. Procedures Performed, \"\n",
    "            \"6. Medications at Discharge, \"\n",
    "            \"7. Discharge Instructions, \"\n",
    "            \"8. Follow-Up Care, \"\n",
    "            \"9. Patient's Condition at Discharge, \"\n",
    "            \"10. Patient Education and Counseling, \"\n",
    "            \"11. Pending Results, \"\n",
    "            \"12. Advance Directives and Legal Considerations, \"\n",
    "            \"13. Healthcare Provider Information, \"\n",
    "            \"14. Additional Notes.\"\n",
    "        )\n"
   ]
  },
  {
   "cell_type": "code",
   "execution_count": 10,
   "metadata": {},
   "outputs": [
    {
     "name": "stderr",
     "output_type": "stream",
     "text": [
      "100%|██████████| 1/1 [01:20<00:00, 80.48s/it]"
     ]
    },
    {
     "name": "stdout",
     "output_type": "stream",
     "text": [
      "Notes processing complete.\n"
     ]
    },
    {
     "name": "stderr",
     "output_type": "stream",
     "text": [
      "\n"
     ]
    }
   ],
   "source": [
    "\n",
    "\n",
    "# Function to generate variations of the AI note\n",
    "def generate_variations(note, prefix):\n",
    "    variations = []\n",
    "    for i in range(1, 6):\n",
    "        # Prompts for generating variations\n",
    "        omit_relevant_prompt = f\"Remove {i} key pieces of relevant information from the note.\"\n",
    "        omit_irrelevant_prompt = f\"Remove {i} non-relevant details from the note.\"\n",
    "        inj_relevant_prompt = f\"Add {i} additional synthetic relevant details to the note.\"\n",
    "        inj_irrelevant_prompt = f\"Add {i} synthetic non-relevant details to the note.\"\n",
    "        \n",
    "        # Generate variations using the prompts\n",
    "        variations.append((f\"{prefix}omit{i}r\", modify_note_with_prompt(note, omit_relevant_prompt)))\n",
    "        variations.append((f\"{prefix}omit{i}ir\", modify_note_with_prompt(note, omit_irrelevant_prompt)))\n",
    "        variations.append((f\"{prefix}inj{i}r\", modify_note_with_prompt(note, inj_relevant_prompt)))\n",
    "        variations.append((f\"{prefix}inj{i}ir\", modify_note_with_prompt(note, inj_irrelevant_prompt)))\n",
    "    \n",
    "    return variations\n",
    "\n",
    "# Helper function to modify the note using a prompt\n",
    "def modify_note_with_prompt(note, prompt):\n",
    "    response = llm.invoke([\n",
    "        SystemMessage(content=relevancy_prompt ),\n",
    "        HumanMessage(content= prompt +\"\\n\\n the note is: \" + note)\n",
    "    ])\n",
    "    return response.content.strip()\n"
   ]
  },
  {
   "cell_type": "code",
   "execution_count": 12,
   "metadata": {},
   "outputs": [
    {
     "name": "stderr",
     "output_type": "stream",
     "text": [
      "100%|██████████| 1/1 [01:14<00:00, 74.16s/it]"
     ]
    },
    {
     "name": "stdout",
     "output_type": "stream",
     "text": [
      "Notes processing complete.\n"
     ]
    },
    {
     "name": "stderr",
     "output_type": "stream",
     "text": [
      "\n"
     ]
    }
   ],
   "source": [
    "from tqdm import tqdm\n",
    "import csv\n",
    "\n",
    "# Initialize a list to store modification details\n",
    "modification_details = []\n",
    "\n",
    "# Process each document in the original notes folder\n",
    "for filename in tqdm(os.listdir(original_folder)):\n",
    "    if filename.endswith(\".txt\"):\n",
    "        filepath = os.path.join(original_folder, filename)\n",
    "        \n",
    "        # Load the original note\n",
    "        with open(filepath, 'r', encoding='utf-8') as file:\n",
    "            original_note = file.read()\n",
    "        \n",
    "        # Generate the AI rewritten note\n",
    "        system_message = \"Rewrite the note professionally, omitting normal lab values and normal vital signs. \"\n",
    "        human_message = f\"Original Note:\\n\\n{original_note}\"\n",
    "        \n",
    "        response = llm.invoke([\n",
    "            SystemMessage(content=system_message),\n",
    "            HumanMessage(content=human_message)\n",
    "        ])\n",
    "        \n",
    "        note = response.content.strip()\n",
    "        \n",
    "        # Generate variations of the AI note\n",
    "        variations = generate_variations(note, \"AI_\")\n",
    "        \n",
    "        # Create a folder for the original note and its variations\n",
    "        note_folder = os.path.join(modified_folder, os.path.splitext(filename)[0])\n",
    "        os.makedirs(note_folder, exist_ok=True)\n",
    "        \n",
    "        # Save the original and AI notes\n",
    "        with open(os.path.join(note_folder, \"original.txt\"), 'w', encoding='utf-8') as file:\n",
    "            file.write(original_note)\n",
    "        \n",
    "        with open(os.path.join(note_folder, \"AI.txt\"), 'w', encoding='utf-8') as file:\n",
    "            file.write(note)\n",
    "        \n",
    "        # Save each variation\n",
    "        for var_name, var_content in variations:\n",
    "            with open(os.path.join(note_folder, f\"{var_name}.txt\"), 'w', encoding='utf-8') as file:\n",
    "                file.write(var_content)\n",
    "        \n",
    "        # Collect modification details\n",
    "        modification_details.append({\n",
    "            \"filename\": filename,\n",
    "            \"modifications\": \"Generated AI note and 20 variations\"\n",
    "        })\n",
    "\n",
    "# Save modification details to a CSV file\n",
    "csv_filepath = os.path.join(modified_folder, \"modification_details.csv\")\n",
    "with open(csv_filepath, 'w', newline='', encoding='utf-8') as csvfile:\n",
    "    fieldnames = ['filename', 'modifications']\n",
    "    writer = csv.DictWriter(csvfile, fieldnames=fieldnames)\n",
    "    \n",
    "    writer.writeheader()\n",
    "    for detail in modification_details:\n",
    "        writer.writerow(detail)\n",
    "\n",
    "print(\"Notes processing complete.\")"
   ]
  }
 ],
 "metadata": {
  "kernelspec": {
   "display_name": "python3.10.11",
   "language": "python",
   "name": "python3"
  },
  "language_info": {
   "codemirror_mode": {
    "name": "ipython",
    "version": 3
   },
   "file_extension": ".py",
   "mimetype": "text/x-python",
   "name": "python",
   "nbconvert_exporter": "python",
   "pygments_lexer": "ipython3",
   "version": "3.10.11"
  }
 },
 "nbformat": 4,
 "nbformat_minor": 2
}
